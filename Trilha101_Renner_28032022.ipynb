{
  "nbformat": 4,
  "nbformat_minor": 0,
  "metadata": {
    "colab": {
      "name": "Trilha101_Renner_28032022.ipynb",
      "provenance": [],
      "authorship_tag": "ABX9TyMt5Rk0BLGabEzmVdoXT5mK",
      "include_colab_link": true
    },
    "kernelspec": {
      "name": "python3",
      "display_name": "Python 3"
    },
    "language_info": {
      "name": "python"
    }
  },
  "cells": [
    {
      "cell_type": "markdown",
      "metadata": {
        "id": "view-in-github",
        "colab_type": "text"
      },
      "source": [
        "<a href=\"https://colab.research.google.com/github/LuccaBortoloso/Git-Renner-Aula01/blob/main/Trilha101_Renner_28032022.ipynb\" target=\"_parent\"><img src=\"https://colab.research.google.com/assets/colab-badge.svg\" alt=\"Open In Colab\"/></a>"
      ]
    },
    {
      "cell_type": "code",
      "execution_count": null,
      "metadata": {
        "id": "2CXPGZA5ZJGb"
      },
      "outputs": [],
      "source": [
        "lista = [1, 2, 3]"
      ]
    }
  ]
}